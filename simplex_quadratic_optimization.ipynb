{
  "nbformat": 4,
  "nbformat_minor": 0,
  "metadata": {
    "colab": {
      "name": "Untitled2.ipynb",
      "provenance": []
    },
    "kernelspec": {
      "name": "python3",
      "display_name": "Python 3"
    },
    "language_info": {
      "name": "python"
    },
    "accelerator": "GPU"
  },
  "cells": [
    {
      "cell_type": "markdown",
      "metadata": {
        "id": "VXdAQeHoMU7W"
      },
      "source": [
        "# Quadratic Optimization using Simplex computation\n",
        "### Simplex works only with linear targets, but in case of the objective function, it can be either linear or quadratic\n",
        "\n",
        "### Our objective here is minimize risk, while targeting a specific return"
      ]
    },
    {
      "cell_type": "code",
      "metadata": {
        "id": "aRiCrgsL33G_"
      },
      "source": [
        "import pandas as pd\n",
        "import numpy as np"
      ],
      "execution_count": 194,
      "outputs": []
    },
    {
      "cell_type": "code",
      "metadata": {
        "id": "KbUMfzgt6f4b"
      },
      "source": [
        "file = \"All_Stocks.xlsx\""
      ],
      "execution_count": 195,
      "outputs": []
    },
    {
      "cell_type": "code",
      "metadata": {
        "id": "7h3V51Nh6wPz"
      },
      "source": [
        "data = pd.read_excel(file)"
      ],
      "execution_count": 196,
      "outputs": []
    },
    {
      "cell_type": "code",
      "metadata": {
        "colab": {
          "base_uri": "https://localhost:8080/",
          "height": 206
        },
        "id": "uMbG1RWO60LS",
        "outputId": "1a4dff2f-51ea-49ad-a951-52fc292e9b9f"
      },
      "source": [
        "data.head()"
      ],
      "execution_count": 197,
      "outputs": [
        {
          "output_type": "execute_result",
          "data": {
            "text/html": [
              "<div>\n",
              "<style scoped>\n",
              "    .dataframe tbody tr th:only-of-type {\n",
              "        vertical-align: middle;\n",
              "    }\n",
              "\n",
              "    .dataframe tbody tr th {\n",
              "        vertical-align: top;\n",
              "    }\n",
              "\n",
              "    .dataframe thead th {\n",
              "        text-align: right;\n",
              "    }\n",
              "</style>\n",
              "<table border=\"1\" class=\"dataframe\">\n",
              "  <thead>\n",
              "    <tr style=\"text-align: right;\">\n",
              "      <th></th>\n",
              "      <th>Date</th>\n",
              "      <th>GOOG</th>\n",
              "      <th>AAPL</th>\n",
              "      <th>SBUX</th>\n",
              "      <th>TSLA</th>\n",
              "    </tr>\n",
              "  </thead>\n",
              "  <tbody>\n",
              "    <tr>\n",
              "      <th>0</th>\n",
              "      <td>2019-04-01</td>\n",
              "      <td>1188.479980</td>\n",
              "      <td>49.138439</td>\n",
              "      <td>74.778992</td>\n",
              "      <td>47.737999</td>\n",
              "    </tr>\n",
              "    <tr>\n",
              "      <th>1</th>\n",
              "      <td>2019-05-01</td>\n",
              "      <td>1103.630005</td>\n",
              "      <td>42.869724</td>\n",
              "      <td>73.219505</td>\n",
              "      <td>37.032001</td>\n",
              "    </tr>\n",
              "    <tr>\n",
              "      <th>2</th>\n",
              "      <td>2019-06-01</td>\n",
              "      <td>1080.910034</td>\n",
              "      <td>48.651680</td>\n",
              "      <td>81.073700</td>\n",
              "      <td>44.692001</td>\n",
              "    </tr>\n",
              "    <tr>\n",
              "      <th>3</th>\n",
              "      <td>2019-07-01</td>\n",
              "      <td>1216.680054</td>\n",
              "      <td>52.368397</td>\n",
              "      <td>91.576622</td>\n",
              "      <td>48.321999</td>\n",
              "    </tr>\n",
              "    <tr>\n",
              "      <th>4</th>\n",
              "      <td>2019-08-01</td>\n",
              "      <td>1188.099976</td>\n",
              "      <td>51.311405</td>\n",
              "      <td>93.385139</td>\n",
              "      <td>45.122002</td>\n",
              "    </tr>\n",
              "  </tbody>\n",
              "</table>\n",
              "</div>"
            ],
            "text/plain": [
              "        Date         GOOG       AAPL       SBUX       TSLA\n",
              "0 2019-04-01  1188.479980  49.138439  74.778992  47.737999\n",
              "1 2019-05-01  1103.630005  42.869724  73.219505  37.032001\n",
              "2 2019-06-01  1080.910034  48.651680  81.073700  44.692001\n",
              "3 2019-07-01  1216.680054  52.368397  91.576622  48.321999\n",
              "4 2019-08-01  1188.099976  51.311405  93.385139  45.122002"
            ]
          },
          "metadata": {
            "tags": []
          },
          "execution_count": 197
        }
      ]
    },
    {
      "cell_type": "code",
      "metadata": {
        "id": "7-WURpA268NB"
      },
      "source": [
        "data[\"Date\"] = pd.to_datetime(data[\"Date\"], format=\"%d-%b-%y\")"
      ],
      "execution_count": 198,
      "outputs": []
    },
    {
      "cell_type": "code",
      "metadata": {
        "colab": {
          "base_uri": "https://localhost:8080/",
          "height": 206
        },
        "id": "gynby2BH7LvQ",
        "outputId": "d6f06eeb-9cb7-416a-f222-820dab4aaf58"
      },
      "source": [
        "data.head()"
      ],
      "execution_count": 199,
      "outputs": [
        {
          "output_type": "execute_result",
          "data": {
            "text/html": [
              "<div>\n",
              "<style scoped>\n",
              "    .dataframe tbody tr th:only-of-type {\n",
              "        vertical-align: middle;\n",
              "    }\n",
              "\n",
              "    .dataframe tbody tr th {\n",
              "        vertical-align: top;\n",
              "    }\n",
              "\n",
              "    .dataframe thead th {\n",
              "        text-align: right;\n",
              "    }\n",
              "</style>\n",
              "<table border=\"1\" class=\"dataframe\">\n",
              "  <thead>\n",
              "    <tr style=\"text-align: right;\">\n",
              "      <th></th>\n",
              "      <th>Date</th>\n",
              "      <th>GOOG</th>\n",
              "      <th>AAPL</th>\n",
              "      <th>SBUX</th>\n",
              "      <th>TSLA</th>\n",
              "    </tr>\n",
              "  </thead>\n",
              "  <tbody>\n",
              "    <tr>\n",
              "      <th>0</th>\n",
              "      <td>2019-04-01</td>\n",
              "      <td>1188.479980</td>\n",
              "      <td>49.138439</td>\n",
              "      <td>74.778992</td>\n",
              "      <td>47.737999</td>\n",
              "    </tr>\n",
              "    <tr>\n",
              "      <th>1</th>\n",
              "      <td>2019-05-01</td>\n",
              "      <td>1103.630005</td>\n",
              "      <td>42.869724</td>\n",
              "      <td>73.219505</td>\n",
              "      <td>37.032001</td>\n",
              "    </tr>\n",
              "    <tr>\n",
              "      <th>2</th>\n",
              "      <td>2019-06-01</td>\n",
              "      <td>1080.910034</td>\n",
              "      <td>48.651680</td>\n",
              "      <td>81.073700</td>\n",
              "      <td>44.692001</td>\n",
              "    </tr>\n",
              "    <tr>\n",
              "      <th>3</th>\n",
              "      <td>2019-07-01</td>\n",
              "      <td>1216.680054</td>\n",
              "      <td>52.368397</td>\n",
              "      <td>91.576622</td>\n",
              "      <td>48.321999</td>\n",
              "    </tr>\n",
              "    <tr>\n",
              "      <th>4</th>\n",
              "      <td>2019-08-01</td>\n",
              "      <td>1188.099976</td>\n",
              "      <td>51.311405</td>\n",
              "      <td>93.385139</td>\n",
              "      <td>45.122002</td>\n",
              "    </tr>\n",
              "  </tbody>\n",
              "</table>\n",
              "</div>"
            ],
            "text/plain": [
              "        Date         GOOG       AAPL       SBUX       TSLA\n",
              "0 2019-04-01  1188.479980  49.138439  74.778992  47.737999\n",
              "1 2019-05-01  1103.630005  42.869724  73.219505  37.032001\n",
              "2 2019-06-01  1080.910034  48.651680  81.073700  44.692001\n",
              "3 2019-07-01  1216.680054  52.368397  91.576622  48.321999\n",
              "4 2019-08-01  1188.099976  51.311405  93.385139  45.122002"
            ]
          },
          "metadata": {
            "tags": []
          },
          "execution_count": 199
        }
      ]
    },
    {
      "cell_type": "code",
      "metadata": {
        "colab": {
          "base_uri": "https://localhost:8080/"
        },
        "id": "4eA5Zhwi7yGk",
        "outputId": "9bdc7196-3d7e-4821-faee-c834618a8773"
      },
      "source": [
        "data.dtypes"
      ],
      "execution_count": 200,
      "outputs": [
        {
          "output_type": "execute_result",
          "data": {
            "text/plain": [
              "Date    datetime64[ns]\n",
              "GOOG           float64\n",
              "AAPL           float64\n",
              "SBUX           float64\n",
              "TSLA           float64\n",
              "dtype: object"
            ]
          },
          "metadata": {
            "tags": []
          },
          "execution_count": 200
        }
      ]
    },
    {
      "cell_type": "markdown",
      "metadata": {
        "id": "T1QzW1O6CLaG"
      },
      "source": [
        "Now we must calculate returns from base/start price\n",
        "\n",
        "We only want to do that for int or float valued columns\n"
      ]
    },
    {
      "cell_type": "code",
      "metadata": {
        "id": "T7-qHJYM7NlY"
      },
      "source": [
        "returns = data[[key for key in dict(data.dtypes) if dict(data.dtypes)[key] in [\"int64\", \"float64\"]]].pct_change()"
      ],
      "execution_count": 201,
      "outputs": []
    },
    {
      "cell_type": "code",
      "metadata": {
        "colab": {
          "base_uri": "https://localhost:8080/",
          "height": 206
        },
        "id": "61-C24ZZ7s33",
        "outputId": "1ba1a055-2464-432f-dd4d-377e20185886"
      },
      "source": [
        "returns.head()"
      ],
      "execution_count": 202,
      "outputs": [
        {
          "output_type": "execute_result",
          "data": {
            "text/html": [
              "<div>\n",
              "<style scoped>\n",
              "    .dataframe tbody tr th:only-of-type {\n",
              "        vertical-align: middle;\n",
              "    }\n",
              "\n",
              "    .dataframe tbody tr th {\n",
              "        vertical-align: top;\n",
              "    }\n",
              "\n",
              "    .dataframe thead th {\n",
              "        text-align: right;\n",
              "    }\n",
              "</style>\n",
              "<table border=\"1\" class=\"dataframe\">\n",
              "  <thead>\n",
              "    <tr style=\"text-align: right;\">\n",
              "      <th></th>\n",
              "      <th>GOOG</th>\n",
              "      <th>AAPL</th>\n",
              "      <th>SBUX</th>\n",
              "      <th>TSLA</th>\n",
              "    </tr>\n",
              "  </thead>\n",
              "  <tbody>\n",
              "    <tr>\n",
              "      <th>0</th>\n",
              "      <td>NaN</td>\n",
              "      <td>NaN</td>\n",
              "      <td>NaN</td>\n",
              "      <td>NaN</td>\n",
              "    </tr>\n",
              "    <tr>\n",
              "      <th>1</th>\n",
              "      <td>-0.071394</td>\n",
              "      <td>-0.127573</td>\n",
              "      <td>-0.020855</td>\n",
              "      <td>-0.224266</td>\n",
              "    </tr>\n",
              "    <tr>\n",
              "      <th>2</th>\n",
              "      <td>-0.020587</td>\n",
              "      <td>0.134873</td>\n",
              "      <td>0.107269</td>\n",
              "      <td>0.206848</td>\n",
              "    </tr>\n",
              "    <tr>\n",
              "      <th>3</th>\n",
              "      <td>0.125607</td>\n",
              "      <td>0.076394</td>\n",
              "      <td>0.129548</td>\n",
              "      <td>0.081223</td>\n",
              "    </tr>\n",
              "    <tr>\n",
              "      <th>4</th>\n",
              "      <td>-0.023490</td>\n",
              "      <td>-0.020184</td>\n",
              "      <td>0.019749</td>\n",
              "      <td>-0.066222</td>\n",
              "    </tr>\n",
              "  </tbody>\n",
              "</table>\n",
              "</div>"
            ],
            "text/plain": [
              "       GOOG      AAPL      SBUX      TSLA\n",
              "0       NaN       NaN       NaN       NaN\n",
              "1 -0.071394 -0.127573 -0.020855 -0.224266\n",
              "2 -0.020587  0.134873  0.107269  0.206848\n",
              "3  0.125607  0.076394  0.129548  0.081223\n",
              "4 -0.023490 -0.020184  0.019749 -0.066222"
            ]
          },
          "metadata": {
            "tags": []
          },
          "execution_count": 202
        }
      ]
    },
    {
      "cell_type": "code",
      "metadata": {
        "id": "d1zRmgJV7uLx"
      },
      "source": [
        "returns = returns[1:]"
      ],
      "execution_count": 203,
      "outputs": []
    },
    {
      "cell_type": "code",
      "metadata": {
        "colab": {
          "base_uri": "https://localhost:8080/"
        },
        "id": "tbSmPR5f70D9",
        "outputId": "a9c0bd84-4ed5-4f1b-f874-370cd42299c8"
      },
      "source": [
        "stock_names = [\"GOOG\", \"AAPL\", \"SBUX\", \"TSLA\"]\n",
        "stock_names"
      ],
      "execution_count": 204,
      "outputs": [
        {
          "output_type": "execute_result",
          "data": {
            "text/plain": [
              "['GOOG', 'AAPL', 'SBUX', 'TSLA']"
            ]
          },
          "metadata": {
            "tags": []
          },
          "execution_count": 204
        }
      ]
    },
    {
      "cell_type": "code",
      "metadata": {
        "id": "l2kU2bZp8AyL"
      },
      "source": [
        "stock_returns = returns[stock_names]"
      ],
      "execution_count": 205,
      "outputs": []
    },
    {
      "cell_type": "code",
      "metadata": {
        "colab": {
          "base_uri": "https://localhost:8080/",
          "height": 206
        },
        "id": "-l7pMoY48F1Y",
        "outputId": "6c5f6632-9ded-4abc-9590-61c4c6d52e09"
      },
      "source": [
        "stock_returns.head()"
      ],
      "execution_count": 206,
      "outputs": [
        {
          "output_type": "execute_result",
          "data": {
            "text/html": [
              "<div>\n",
              "<style scoped>\n",
              "    .dataframe tbody tr th:only-of-type {\n",
              "        vertical-align: middle;\n",
              "    }\n",
              "\n",
              "    .dataframe tbody tr th {\n",
              "        vertical-align: top;\n",
              "    }\n",
              "\n",
              "    .dataframe thead th {\n",
              "        text-align: right;\n",
              "    }\n",
              "</style>\n",
              "<table border=\"1\" class=\"dataframe\">\n",
              "  <thead>\n",
              "    <tr style=\"text-align: right;\">\n",
              "      <th></th>\n",
              "      <th>GOOG</th>\n",
              "      <th>AAPL</th>\n",
              "      <th>SBUX</th>\n",
              "      <th>TSLA</th>\n",
              "    </tr>\n",
              "  </thead>\n",
              "  <tbody>\n",
              "    <tr>\n",
              "      <th>1</th>\n",
              "      <td>-0.071394</td>\n",
              "      <td>-0.127573</td>\n",
              "      <td>-0.020855</td>\n",
              "      <td>-0.224266</td>\n",
              "    </tr>\n",
              "    <tr>\n",
              "      <th>2</th>\n",
              "      <td>-0.020587</td>\n",
              "      <td>0.134873</td>\n",
              "      <td>0.107269</td>\n",
              "      <td>0.206848</td>\n",
              "    </tr>\n",
              "    <tr>\n",
              "      <th>3</th>\n",
              "      <td>0.125607</td>\n",
              "      <td>0.076394</td>\n",
              "      <td>0.129548</td>\n",
              "      <td>0.081223</td>\n",
              "    </tr>\n",
              "    <tr>\n",
              "      <th>4</th>\n",
              "      <td>-0.023490</td>\n",
              "      <td>-0.020184</td>\n",
              "      <td>0.019749</td>\n",
              "      <td>-0.066222</td>\n",
              "    </tr>\n",
              "    <tr>\n",
              "      <th>5</th>\n",
              "      <td>0.026008</td>\n",
              "      <td>0.077038</td>\n",
              "      <td>-0.080829</td>\n",
              "      <td>0.067639</td>\n",
              "    </tr>\n",
              "  </tbody>\n",
              "</table>\n",
              "</div>"
            ],
            "text/plain": [
              "       GOOG      AAPL      SBUX      TSLA\n",
              "1 -0.071394 -0.127573 -0.020855 -0.224266\n",
              "2 -0.020587  0.134873  0.107269  0.206848\n",
              "3  0.125607  0.076394  0.129548  0.081223\n",
              "4 -0.023490 -0.020184  0.019749 -0.066222\n",
              "5  0.026008  0.077038 -0.080829  0.067639"
            ]
          },
          "metadata": {
            "tags": []
          },
          "execution_count": 206
        }
      ]
    },
    {
      "cell_type": "code",
      "metadata": {
        "id": "estb0DKa8HKd"
      },
      "source": [
        "n = len(stock_names)"
      ],
      "execution_count": 207,
      "outputs": []
    },
    {
      "cell_type": "code",
      "metadata": {
        "colab": {
          "base_uri": "https://localhost:8080/"
        },
        "id": "3j-PfNJ-K16I",
        "outputId": "9bc3076f-0c55-450d-e5f1-fd0173827919"
      },
      "source": [
        "expected_returns = np.mean(stock_returns)\n",
        "expected_returns = matrix(expected_returns)\n",
        "expected_returns"
      ],
      "execution_count": 208,
      "outputs": [
        {
          "output_type": "execute_result",
          "data": {
            "text/plain": [
              "<4x1 matrix, tc='d'>"
            ]
          },
          "metadata": {
            "tags": []
          },
          "execution_count": 208
        }
      ]
    },
    {
      "cell_type": "code",
      "metadata": {
        "colab": {
          "base_uri": "https://localhost:8080/"
        },
        "id": "S3pG0tQd8RHt",
        "outputId": "08e8887a-8ab3-48c4-86cc-629ffd1d9419"
      },
      "source": [
        "!pip install CVXOPT"
      ],
      "execution_count": 209,
      "outputs": [
        {
          "output_type": "stream",
          "text": [
            "Requirement already satisfied: CVXOPT in /usr/local/lib/python3.7/dist-packages (1.2.6)\n"
          ],
          "name": "stdout"
        }
      ]
    },
    {
      "cell_type": "code",
      "metadata": {
        "id": "2V80MvF-8RsD"
      },
      "source": [
        "import cvxopt as opt"
      ],
      "execution_count": 210,
      "outputs": []
    },
    {
      "cell_type": "code",
      "metadata": {
        "id": "Xff81DRC840k"
      },
      "source": [
        "from cvxopt import matrix, solvers"
      ],
      "execution_count": 211,
      "outputs": []
    },
    {
      "cell_type": "code",
      "metadata": {
        "colab": {
          "base_uri": "https://localhost:8080/",
          "height": 175
        },
        "id": "jyQmjG0IGevE",
        "outputId": "0dbdc5ff-ad4e-4ec1-b8a2-2663785ad33c"
      },
      "source": [
        "cov_stocks = stock_returns.cov()\n",
        "cov_stocks"
      ],
      "execution_count": 212,
      "outputs": [
        {
          "output_type": "execute_result",
          "data": {
            "text/html": [
              "<div>\n",
              "<style scoped>\n",
              "    .dataframe tbody tr th:only-of-type {\n",
              "        vertical-align: middle;\n",
              "    }\n",
              "\n",
              "    .dataframe tbody tr th {\n",
              "        vertical-align: top;\n",
              "    }\n",
              "\n",
              "    .dataframe thead th {\n",
              "        text-align: right;\n",
              "    }\n",
              "</style>\n",
              "<table border=\"1\" class=\"dataframe\">\n",
              "  <thead>\n",
              "    <tr style=\"text-align: right;\">\n",
              "      <th></th>\n",
              "      <th>GOOG</th>\n",
              "      <th>AAPL</th>\n",
              "      <th>SBUX</th>\n",
              "      <th>TSLA</th>\n",
              "    </tr>\n",
              "  </thead>\n",
              "  <tbody>\n",
              "    <tr>\n",
              "      <th>GOOG</th>\n",
              "      <td>0.005480</td>\n",
              "      <td>0.003654</td>\n",
              "      <td>0.003736</td>\n",
              "      <td>0.010104</td>\n",
              "    </tr>\n",
              "    <tr>\n",
              "      <th>AAPL</th>\n",
              "      <td>0.003654</td>\n",
              "      <td>0.009947</td>\n",
              "      <td>0.003483</td>\n",
              "      <td>0.021065</td>\n",
              "    </tr>\n",
              "    <tr>\n",
              "      <th>SBUX</th>\n",
              "      <td>0.003736</td>\n",
              "      <td>0.003483</td>\n",
              "      <td>0.006982</td>\n",
              "      <td>0.008112</td>\n",
              "    </tr>\n",
              "    <tr>\n",
              "      <th>TSLA</th>\n",
              "      <td>0.010104</td>\n",
              "      <td>0.021065</td>\n",
              "      <td>0.008112</td>\n",
              "      <td>0.066118</td>\n",
              "    </tr>\n",
              "  </tbody>\n",
              "</table>\n",
              "</div>"
            ],
            "text/plain": [
              "          GOOG      AAPL      SBUX      TSLA\n",
              "GOOG  0.005480  0.003654  0.003736  0.010104\n",
              "AAPL  0.003654  0.009947  0.003483  0.021065\n",
              "SBUX  0.003736  0.003483  0.006982  0.008112\n",
              "TSLA  0.010104  0.021065  0.008112  0.066118"
            ]
          },
          "metadata": {
            "tags": []
          },
          "execution_count": 212
        }
      ]
    },
    {
      "cell_type": "code",
      "metadata": {
        "id": "lCG7Qz0oGmWu"
      },
      "source": [
        "cov_stocks = matrix(np.array(cov_stocks))"
      ],
      "execution_count": 213,
      "outputs": []
    },
    {
      "cell_type": "code",
      "metadata": {
        "colab": {
          "base_uri": "https://localhost:8080/"
        },
        "id": "wYhweIy0GmaB",
        "outputId": "79d4afeb-ab93-438b-d410-70eff6884038"
      },
      "source": [
        "cov_stocks"
      ],
      "execution_count": 214,
      "outputs": [
        {
          "output_type": "execute_result",
          "data": {
            "text/plain": [
              "<4x4 matrix, tc='d'>"
            ]
          },
          "metadata": {
            "tags": []
          },
          "execution_count": 214
        }
      ]
    },
    {
      "cell_type": "markdown",
      "metadata": {
        "id": "lWJgkHioIV3g"
      },
      "source": [
        "Each objective for quadratic  programming has 2 parts: <br>\n",
        "a) Linear part: represented by cx, where c is vector of coefficients and x is vector of the decision variables <br>\n",
        "b) Quadratic  part: represented by x.Q.x' <br>\n",
        "<br>\n",
        "Together the objective is minimize: cx - x.Q.x' <br><br>\n",
        "So, our objective essentially is to minimize portfolio risk.<br>\n",
        "We do this using a covariance matrix instead of just using the worst return entry for each ticker"
      ]
    },
    {
      "cell_type": "code",
      "metadata": {
        "colab": {
          "base_uri": "https://localhost:8080/"
        },
        "id": "YN5aaf3jGmeE",
        "outputId": "27c979f2-d7d2-4394-be21-c66e449478d8"
      },
      "source": [
        "objective = cov_stocks\n",
        "objective"
      ],
      "execution_count": 215,
      "outputs": [
        {
          "output_type": "execute_result",
          "data": {
            "text/plain": [
              "<4x4 matrix, tc='d'>"
            ]
          },
          "metadata": {
            "tags": []
          },
          "execution_count": 215
        }
      ]
    },
    {
      "cell_type": "markdown",
      "metadata": {
        "id": "gQs1zOv8I9os"
      },
      "source": [
        "In our case, we do not have any linear objective, so we create a vector of coefficients as all zeros."
      ]
    },
    {
      "cell_type": "code",
      "metadata": {
        "id": "BQY0kE5YGmhM"
      },
      "source": [
        "vector = matrix(np.zeros((n, 1)))"
      ],
      "execution_count": 216,
      "outputs": []
    },
    {
      "cell_type": "code",
      "metadata": {
        "id": "JqG0ufzIGmkF"
      },
      "source": [
        "constraints_inequality_lhs = matrix(-np.transpose(np.array(expected_returns)))"
      ],
      "execution_count": 217,
      "outputs": []
    },
    {
      "cell_type": "code",
      "metadata": {
        "colab": {
          "base_uri": "https://localhost:8080/"
        },
        "id": "WWCyw_OKGmnZ",
        "outputId": "a6d0de64-afb0-4f7c-f913-bcc872961996"
      },
      "source": [
        "constraints_inequality_lhs"
      ],
      "execution_count": 218,
      "outputs": [
        {
          "output_type": "execute_result",
          "data": {
            "text/plain": [
              "<1x4 matrix, tc='d'>"
            ]
          },
          "metadata": {
            "tags": []
          },
          "execution_count": 218
        }
      ]
    },
    {
      "cell_type": "code",
      "metadata": {
        "id": "9hWGAAUuHfwJ"
      },
      "source": [
        "min_expected_return = 0.10"
      ],
      "execution_count": 232,
      "outputs": []
    },
    {
      "cell_type": "code",
      "metadata": {
        "id": "XSt159z1GmqU"
      },
      "source": [
        "constraints_inequality_rhs = matrix(-np.ones((1, 1)) * min_expected_return)"
      ],
      "execution_count": 233,
      "outputs": []
    },
    {
      "cell_type": "code",
      "metadata": {
        "id": "R--dBCQ2Gmtc"
      },
      "source": [
        "constraints_equality_lhs = matrix(1., (1, n))"
      ],
      "execution_count": 234,
      "outputs": []
    },
    {
      "cell_type": "code",
      "metadata": {
        "id": "D2i8cvz4Gmwo"
      },
      "source": [
        "constraints_equality_rhs = matrix(1.0)"
      ],
      "execution_count": 235,
      "outputs": []
    },
    {
      "cell_type": "code",
      "metadata": {
        "colab": {
          "base_uri": "https://localhost:8080/"
        },
        "id": "s8lIzo0iGmze",
        "outputId": "60e24de6-e227-4e4e-ddf2-eb8bba4e05d2"
      },
      "source": [
        "solution = solvers.qp(objective, vector, constraints_inequality_lhs, constraints_inequality_rhs, constraints_equality_lhs, constraints_equality_rhs)"
      ],
      "execution_count": 236,
      "outputs": [
        {
          "output_type": "stream",
          "text": [
            "     pcost       dcost       gap    pres   dres\n",
            " 0:  2.3416e-03  7.1796e-03  7e-02  1e+00  3e-18\n",
            " 1:  2.5527e-03  7.7918e-03  8e-04  8e-02  2e-18\n",
            " 2:  2.1409e-02  1.4137e-02  7e-03  2e-16  3e-17\n",
            " 3:  1.5079e-02  1.4802e-02  3e-04  0e+00  3e-17\n",
            " 4:  1.4806e-02  1.4803e-02  3e-06  1e-17  6e-18\n",
            " 5:  1.4803e-02  1.4803e-02  3e-08  1e-17  1e-17\n",
            "Optimal solution found.\n"
          ],
          "name": "stdout"
        }
      ]
    },
    {
      "cell_type": "code",
      "metadata": {
        "colab": {
          "base_uri": "https://localhost:8080/"
        },
        "id": "IBpWCMW-Gm2Z",
        "outputId": "0eba1321-dd34-4fc0-df3c-5fb7a850315a"
      },
      "source": [
        "weights_quad = solution[\"x\"]\n",
        "weights_quad"
      ],
      "execution_count": 237,
      "outputs": [
        {
          "output_type": "execute_result",
          "data": {
            "text/plain": [
              "<4x1 matrix, tc='d'>"
            ]
          },
          "metadata": {
            "tags": []
          },
          "execution_count": 237
        }
      ]
    },
    {
      "cell_type": "code",
      "metadata": {
        "id": "ptJcbExNJOAy"
      },
      "source": [
        "weights_quad = np.array(weights_quad)"
      ],
      "execution_count": 238,
      "outputs": []
    },
    {
      "cell_type": "code",
      "metadata": {
        "colab": {
          "base_uri": "https://localhost:8080/"
        },
        "id": "sB2PccXPJODf",
        "outputId": "f8b2791e-7880-45b4-8248-58af111910ae"
      },
      "source": [
        "weights_quad"
      ],
      "execution_count": 239,
      "outputs": [
        {
          "output_type": "execute_result",
          "data": {
            "text/plain": [
              "array([[ 0.48353112],\n",
              "       [-0.10793268],\n",
              "       [ 0.00602701],\n",
              "       [ 0.61837456]])"
            ]
          },
          "metadata": {
            "tags": []
          },
          "execution_count": 239
        }
      ]
    },
    {
      "cell_type": "code",
      "metadata": {
        "colab": {
          "base_uri": "https://localhost:8080/"
        },
        "id": "-9Tvk_17JOF0",
        "outputId": "a1ea86d2-3ec0-4a72-e106-08858fa81224"
      },
      "source": [
        "sum(weights_quad)"
      ],
      "execution_count": 240,
      "outputs": [
        {
          "output_type": "execute_result",
          "data": {
            "text/plain": [
              "array([1.])"
            ]
          },
          "metadata": {
            "tags": []
          },
          "execution_count": 240
        }
      ]
    },
    {
      "cell_type": "markdown",
      "metadata": {
        "id": "a9yGF1D_MRmd"
      },
      "source": [
        ""
      ]
    },
    {
      "cell_type": "code",
      "metadata": {
        "id": "Zo5jgmjTJYK6"
      },
      "source": [
        "pf_risk_quad = np.dot(np.dot(weights_quad.T, cov_stocks), weights_quad)"
      ],
      "execution_count": 241,
      "outputs": []
    },
    {
      "cell_type": "code",
      "metadata": {
        "colab": {
          "base_uri": "https://localhost:8080/"
        },
        "id": "C1dD1hOcJYNc",
        "outputId": "d9356b69-852a-4976-c1d2-8c85fc71a942"
      },
      "source": [
        "pf_risk_quad"
      ],
      "execution_count": 242,
      "outputs": [
        {
          "output_type": "execute_result",
          "data": {
            "text/plain": [
              "array([[0.0296064]])"
            ]
          },
          "metadata": {
            "tags": []
          },
          "execution_count": 242
        }
      ]
    },
    {
      "cell_type": "code",
      "metadata": {
        "id": "igQtWqgtKRpD"
      },
      "source": [
        "pf_return_quad = np.dot(expected_returns.T, weights_quad)"
      ],
      "execution_count": 243,
      "outputs": []
    },
    {
      "cell_type": "code",
      "metadata": {
        "colab": {
          "base_uri": "https://localhost:8080/"
        },
        "id": "tzLtQsOAJYQW",
        "outputId": "09f29b84-447e-42d7-8cad-6854e5dd6c01"
      },
      "source": [
        "pf_return_quad"
      ],
      "execution_count": 244,
      "outputs": [
        {
          "output_type": "execute_result",
          "data": {
            "text/plain": [
              "array([[0.10000009]])"
            ]
          },
          "metadata": {
            "tags": []
          },
          "execution_count": 244
        }
      ]
    }
  ]
}