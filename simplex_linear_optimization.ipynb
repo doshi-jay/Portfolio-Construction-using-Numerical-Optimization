{
  "nbformat": 4,
  "nbformat_minor": 0,
  "metadata": {
    "colab": {
      "name": "simplex_linear_optimization.ipynb",
      "provenance": []
    },
    "kernelspec": {
      "name": "python3",
      "display_name": "Python 3"
    },
    "language_info": {
      "name": "python"
    },
    "accelerator": "GPU"
  },
  "cells": [
    {
      "cell_type": "markdown",
      "metadata": {
        "id": "3G_w5CpTM8Tr"
      },
      "source": [
        "#Linear Optimization using Simplex computation\n",
        "Our objective here is minimize risk, while targeting a specific return"
      ]
    },
    {
      "cell_type": "code",
      "metadata": {
        "id": "aRiCrgsL33G_"
      },
      "source": [
        "import pandas as pd\n",
        "import numpy as np"
      ],
      "execution_count": null,
      "outputs": []
    },
    {
      "cell_type": "code",
      "metadata": {
        "id": "KbUMfzgt6f4b"
      },
      "source": [
        "file = \"All_Stocks.xlsx\""
      ],
      "execution_count": null,
      "outputs": []
    },
    {
      "cell_type": "code",
      "metadata": {
        "id": "7h3V51Nh6wPz"
      },
      "source": [
        "data = pd.read_excel(file)"
      ],
      "execution_count": null,
      "outputs": []
    },
    {
      "cell_type": "code",
      "metadata": {
        "colab": {
          "base_uri": "https://localhost:8080/",
          "height": 206
        },
        "id": "uMbG1RWO60LS",
        "outputId": "7f287097-fc6a-4701-ec98-207f0ff96daf"
      },
      "source": [
        "data.head()"
      ],
      "execution_count": null,
      "outputs": [
        {
          "output_type": "execute_result",
          "data": {
            "text/html": [
              "<div>\n",
              "<style scoped>\n",
              "    .dataframe tbody tr th:only-of-type {\n",
              "        vertical-align: middle;\n",
              "    }\n",
              "\n",
              "    .dataframe tbody tr th {\n",
              "        vertical-align: top;\n",
              "    }\n",
              "\n",
              "    .dataframe thead th {\n",
              "        text-align: right;\n",
              "    }\n",
              "</style>\n",
              "<table border=\"1\" class=\"dataframe\">\n",
              "  <thead>\n",
              "    <tr style=\"text-align: right;\">\n",
              "      <th></th>\n",
              "      <th>Date</th>\n",
              "      <th>GOOG</th>\n",
              "      <th>AAPL</th>\n",
              "      <th>SBUX</th>\n",
              "      <th>TSLA</th>\n",
              "    </tr>\n",
              "  </thead>\n",
              "  <tbody>\n",
              "    <tr>\n",
              "      <th>0</th>\n",
              "      <td>2019-04-01</td>\n",
              "      <td>1188.479980</td>\n",
              "      <td>49.138439</td>\n",
              "      <td>74.778992</td>\n",
              "      <td>47.737999</td>\n",
              "    </tr>\n",
              "    <tr>\n",
              "      <th>1</th>\n",
              "      <td>2019-05-01</td>\n",
              "      <td>1103.630005</td>\n",
              "      <td>42.869724</td>\n",
              "      <td>73.219505</td>\n",
              "      <td>37.032001</td>\n",
              "    </tr>\n",
              "    <tr>\n",
              "      <th>2</th>\n",
              "      <td>2019-06-01</td>\n",
              "      <td>1080.910034</td>\n",
              "      <td>48.651680</td>\n",
              "      <td>81.073700</td>\n",
              "      <td>44.692001</td>\n",
              "    </tr>\n",
              "    <tr>\n",
              "      <th>3</th>\n",
              "      <td>2019-07-01</td>\n",
              "      <td>1216.680054</td>\n",
              "      <td>52.368397</td>\n",
              "      <td>91.576622</td>\n",
              "      <td>48.321999</td>\n",
              "    </tr>\n",
              "    <tr>\n",
              "      <th>4</th>\n",
              "      <td>2019-08-01</td>\n",
              "      <td>1188.099976</td>\n",
              "      <td>51.311405</td>\n",
              "      <td>93.385139</td>\n",
              "      <td>45.122002</td>\n",
              "    </tr>\n",
              "  </tbody>\n",
              "</table>\n",
              "</div>"
            ],
            "text/plain": [
              "        Date         GOOG       AAPL       SBUX       TSLA\n",
              "0 2019-04-01  1188.479980  49.138439  74.778992  47.737999\n",
              "1 2019-05-01  1103.630005  42.869724  73.219505  37.032001\n",
              "2 2019-06-01  1080.910034  48.651680  81.073700  44.692001\n",
              "3 2019-07-01  1216.680054  52.368397  91.576622  48.321999\n",
              "4 2019-08-01  1188.099976  51.311405  93.385139  45.122002"
            ]
          },
          "metadata": {
            "tags": []
          },
          "execution_count": 109
        }
      ]
    },
    {
      "cell_type": "code",
      "metadata": {
        "id": "7-WURpA268NB"
      },
      "source": [
        "data[\"Date\"] = pd.to_datetime(data[\"Date\"], format=\"%d-%b-%y\")"
      ],
      "execution_count": null,
      "outputs": []
    },
    {
      "cell_type": "code",
      "metadata": {
        "colab": {
          "base_uri": "https://localhost:8080/",
          "height": 206
        },
        "id": "gynby2BH7LvQ",
        "outputId": "72dd8bb9-b105-435c-c22b-44188d0ceed5"
      },
      "source": [
        "data.head()"
      ],
      "execution_count": null,
      "outputs": [
        {
          "output_type": "execute_result",
          "data": {
            "text/html": [
              "<div>\n",
              "<style scoped>\n",
              "    .dataframe tbody tr th:only-of-type {\n",
              "        vertical-align: middle;\n",
              "    }\n",
              "\n",
              "    .dataframe tbody tr th {\n",
              "        vertical-align: top;\n",
              "    }\n",
              "\n",
              "    .dataframe thead th {\n",
              "        text-align: right;\n",
              "    }\n",
              "</style>\n",
              "<table border=\"1\" class=\"dataframe\">\n",
              "  <thead>\n",
              "    <tr style=\"text-align: right;\">\n",
              "      <th></th>\n",
              "      <th>Date</th>\n",
              "      <th>GOOG</th>\n",
              "      <th>AAPL</th>\n",
              "      <th>SBUX</th>\n",
              "      <th>TSLA</th>\n",
              "    </tr>\n",
              "  </thead>\n",
              "  <tbody>\n",
              "    <tr>\n",
              "      <th>0</th>\n",
              "      <td>2019-04-01</td>\n",
              "      <td>1188.479980</td>\n",
              "      <td>49.138439</td>\n",
              "      <td>74.778992</td>\n",
              "      <td>47.737999</td>\n",
              "    </tr>\n",
              "    <tr>\n",
              "      <th>1</th>\n",
              "      <td>2019-05-01</td>\n",
              "      <td>1103.630005</td>\n",
              "      <td>42.869724</td>\n",
              "      <td>73.219505</td>\n",
              "      <td>37.032001</td>\n",
              "    </tr>\n",
              "    <tr>\n",
              "      <th>2</th>\n",
              "      <td>2019-06-01</td>\n",
              "      <td>1080.910034</td>\n",
              "      <td>48.651680</td>\n",
              "      <td>81.073700</td>\n",
              "      <td>44.692001</td>\n",
              "    </tr>\n",
              "    <tr>\n",
              "      <th>3</th>\n",
              "      <td>2019-07-01</td>\n",
              "      <td>1216.680054</td>\n",
              "      <td>52.368397</td>\n",
              "      <td>91.576622</td>\n",
              "      <td>48.321999</td>\n",
              "    </tr>\n",
              "    <tr>\n",
              "      <th>4</th>\n",
              "      <td>2019-08-01</td>\n",
              "      <td>1188.099976</td>\n",
              "      <td>51.311405</td>\n",
              "      <td>93.385139</td>\n",
              "      <td>45.122002</td>\n",
              "    </tr>\n",
              "  </tbody>\n",
              "</table>\n",
              "</div>"
            ],
            "text/plain": [
              "        Date         GOOG       AAPL       SBUX       TSLA\n",
              "0 2019-04-01  1188.479980  49.138439  74.778992  47.737999\n",
              "1 2019-05-01  1103.630005  42.869724  73.219505  37.032001\n",
              "2 2019-06-01  1080.910034  48.651680  81.073700  44.692001\n",
              "3 2019-07-01  1216.680054  52.368397  91.576622  48.321999\n",
              "4 2019-08-01  1188.099976  51.311405  93.385139  45.122002"
            ]
          },
          "metadata": {
            "tags": []
          },
          "execution_count": 111
        }
      ]
    },
    {
      "cell_type": "code",
      "metadata": {
        "colab": {
          "base_uri": "https://localhost:8080/"
        },
        "id": "4eA5Zhwi7yGk",
        "outputId": "606ddb61-7a58-4bf3-9417-fe9e6cb6950b"
      },
      "source": [
        "data.dtypes"
      ],
      "execution_count": null,
      "outputs": [
        {
          "output_type": "execute_result",
          "data": {
            "text/plain": [
              "Date    datetime64[ns]\n",
              "GOOG           float64\n",
              "AAPL           float64\n",
              "SBUX           float64\n",
              "TSLA           float64\n",
              "dtype: object"
            ]
          },
          "metadata": {
            "tags": []
          },
          "execution_count": 112
        }
      ]
    },
    {
      "cell_type": "markdown",
      "metadata": {
        "id": "T1QzW1O6CLaG"
      },
      "source": [
        "Now we must calculate returns from base/start price\n",
        "\n",
        "We only want to do that for int or float valued columns\n"
      ]
    },
    {
      "cell_type": "code",
      "metadata": {
        "id": "T7-qHJYM7NlY"
      },
      "source": [
        "returns = data[[key for key in dict(data.dtypes) if dict(data.dtypes)[key] in [\"int64\", \"float64\"]]].pct_change()"
      ],
      "execution_count": null,
      "outputs": []
    },
    {
      "cell_type": "code",
      "metadata": {
        "colab": {
          "base_uri": "https://localhost:8080/",
          "height": 206
        },
        "id": "61-C24ZZ7s33",
        "outputId": "e26c5601-c9e8-437a-a9d9-7aaa710a8317"
      },
      "source": [
        "returns.head()"
      ],
      "execution_count": null,
      "outputs": [
        {
          "output_type": "execute_result",
          "data": {
            "text/html": [
              "<div>\n",
              "<style scoped>\n",
              "    .dataframe tbody tr th:only-of-type {\n",
              "        vertical-align: middle;\n",
              "    }\n",
              "\n",
              "    .dataframe tbody tr th {\n",
              "        vertical-align: top;\n",
              "    }\n",
              "\n",
              "    .dataframe thead th {\n",
              "        text-align: right;\n",
              "    }\n",
              "</style>\n",
              "<table border=\"1\" class=\"dataframe\">\n",
              "  <thead>\n",
              "    <tr style=\"text-align: right;\">\n",
              "      <th></th>\n",
              "      <th>GOOG</th>\n",
              "      <th>AAPL</th>\n",
              "      <th>SBUX</th>\n",
              "      <th>TSLA</th>\n",
              "    </tr>\n",
              "  </thead>\n",
              "  <tbody>\n",
              "    <tr>\n",
              "      <th>0</th>\n",
              "      <td>NaN</td>\n",
              "      <td>NaN</td>\n",
              "      <td>NaN</td>\n",
              "      <td>NaN</td>\n",
              "    </tr>\n",
              "    <tr>\n",
              "      <th>1</th>\n",
              "      <td>-0.071394</td>\n",
              "      <td>-0.127573</td>\n",
              "      <td>-0.020855</td>\n",
              "      <td>-0.224266</td>\n",
              "    </tr>\n",
              "    <tr>\n",
              "      <th>2</th>\n",
              "      <td>-0.020587</td>\n",
              "      <td>0.134873</td>\n",
              "      <td>0.107269</td>\n",
              "      <td>0.206848</td>\n",
              "    </tr>\n",
              "    <tr>\n",
              "      <th>3</th>\n",
              "      <td>0.125607</td>\n",
              "      <td>0.076394</td>\n",
              "      <td>0.129548</td>\n",
              "      <td>0.081223</td>\n",
              "    </tr>\n",
              "    <tr>\n",
              "      <th>4</th>\n",
              "      <td>-0.023490</td>\n",
              "      <td>-0.020184</td>\n",
              "      <td>0.019749</td>\n",
              "      <td>-0.066222</td>\n",
              "    </tr>\n",
              "  </tbody>\n",
              "</table>\n",
              "</div>"
            ],
            "text/plain": [
              "       GOOG      AAPL      SBUX      TSLA\n",
              "0       NaN       NaN       NaN       NaN\n",
              "1 -0.071394 -0.127573 -0.020855 -0.224266\n",
              "2 -0.020587  0.134873  0.107269  0.206848\n",
              "3  0.125607  0.076394  0.129548  0.081223\n",
              "4 -0.023490 -0.020184  0.019749 -0.066222"
            ]
          },
          "metadata": {
            "tags": []
          },
          "execution_count": 114
        }
      ]
    },
    {
      "cell_type": "code",
      "metadata": {
        "id": "d1zRmgJV7uLx"
      },
      "source": [
        "returns = returns[1:]"
      ],
      "execution_count": null,
      "outputs": []
    },
    {
      "cell_type": "code",
      "metadata": {
        "colab": {
          "base_uri": "https://localhost:8080/"
        },
        "id": "tbSmPR5f70D9",
        "outputId": "c2caac1e-7757-4561-b698-56b1e6cd950a"
      },
      "source": [
        "stock_names = [\"GOOG\", \"AAPL\", \"SBUX\", \"TSLA\"]\n",
        "stock_names"
      ],
      "execution_count": null,
      "outputs": [
        {
          "output_type": "execute_result",
          "data": {
            "text/plain": [
              "['GOOG', 'AAPL', 'SBUX', 'TSLA']"
            ]
          },
          "metadata": {
            "tags": []
          },
          "execution_count": 116
        }
      ]
    },
    {
      "cell_type": "code",
      "metadata": {
        "id": "l2kU2bZp8AyL"
      },
      "source": [
        "stock_returns = returns[stock_names]"
      ],
      "execution_count": null,
      "outputs": []
    },
    {
      "cell_type": "code",
      "metadata": {
        "colab": {
          "base_uri": "https://localhost:8080/",
          "height": 206
        },
        "id": "-l7pMoY48F1Y",
        "outputId": "1ef8f842-1d00-4203-9f71-df15c4ca821f"
      },
      "source": [
        "stock_returns.head()"
      ],
      "execution_count": null,
      "outputs": [
        {
          "output_type": "execute_result",
          "data": {
            "text/html": [
              "<div>\n",
              "<style scoped>\n",
              "    .dataframe tbody tr th:only-of-type {\n",
              "        vertical-align: middle;\n",
              "    }\n",
              "\n",
              "    .dataframe tbody tr th {\n",
              "        vertical-align: top;\n",
              "    }\n",
              "\n",
              "    .dataframe thead th {\n",
              "        text-align: right;\n",
              "    }\n",
              "</style>\n",
              "<table border=\"1\" class=\"dataframe\">\n",
              "  <thead>\n",
              "    <tr style=\"text-align: right;\">\n",
              "      <th></th>\n",
              "      <th>GOOG</th>\n",
              "      <th>AAPL</th>\n",
              "      <th>SBUX</th>\n",
              "      <th>TSLA</th>\n",
              "    </tr>\n",
              "  </thead>\n",
              "  <tbody>\n",
              "    <tr>\n",
              "      <th>1</th>\n",
              "      <td>-0.071394</td>\n",
              "      <td>-0.127573</td>\n",
              "      <td>-0.020855</td>\n",
              "      <td>-0.224266</td>\n",
              "    </tr>\n",
              "    <tr>\n",
              "      <th>2</th>\n",
              "      <td>-0.020587</td>\n",
              "      <td>0.134873</td>\n",
              "      <td>0.107269</td>\n",
              "      <td>0.206848</td>\n",
              "    </tr>\n",
              "    <tr>\n",
              "      <th>3</th>\n",
              "      <td>0.125607</td>\n",
              "      <td>0.076394</td>\n",
              "      <td>0.129548</td>\n",
              "      <td>0.081223</td>\n",
              "    </tr>\n",
              "    <tr>\n",
              "      <th>4</th>\n",
              "      <td>-0.023490</td>\n",
              "      <td>-0.020184</td>\n",
              "      <td>0.019749</td>\n",
              "      <td>-0.066222</td>\n",
              "    </tr>\n",
              "    <tr>\n",
              "      <th>5</th>\n",
              "      <td>0.026008</td>\n",
              "      <td>0.077038</td>\n",
              "      <td>-0.080829</td>\n",
              "      <td>0.067639</td>\n",
              "    </tr>\n",
              "  </tbody>\n",
              "</table>\n",
              "</div>"
            ],
            "text/plain": [
              "       GOOG      AAPL      SBUX      TSLA\n",
              "1 -0.071394 -0.127573 -0.020855 -0.224266\n",
              "2 -0.020587  0.134873  0.107269  0.206848\n",
              "3  0.125607  0.076394  0.129548  0.081223\n",
              "4 -0.023490 -0.020184  0.019749 -0.066222\n",
              "5  0.026008  0.077038 -0.080829  0.067639"
            ]
          },
          "metadata": {
            "tags": []
          },
          "execution_count": 118
        }
      ]
    },
    {
      "cell_type": "code",
      "metadata": {
        "id": "estb0DKa8HKd"
      },
      "source": [
        "n = len(stock_names)"
      ],
      "execution_count": null,
      "outputs": []
    },
    {
      "cell_type": "code",
      "metadata": {
        "colab": {
          "base_uri": "https://localhost:8080/"
        },
        "id": "S3pG0tQd8RHt",
        "outputId": "82f55a1a-ff0d-4088-8bf1-312a9224f122"
      },
      "source": [
        "!pip install CVXOPT"
      ],
      "execution_count": null,
      "outputs": [
        {
          "output_type": "stream",
          "text": [
            "Requirement already satisfied: CVXOPT in /usr/local/lib/python3.7/dist-packages (1.2.6)\n"
          ],
          "name": "stdout"
        }
      ]
    },
    {
      "cell_type": "code",
      "metadata": {
        "id": "2V80MvF-8RsD"
      },
      "source": [
        "import cvxopt as opt"
      ],
      "execution_count": null,
      "outputs": []
    },
    {
      "cell_type": "code",
      "metadata": {
        "id": "Xff81DRC840k"
      },
      "source": [
        "from cvxopt import matrix, solvers"
      ],
      "execution_count": null,
      "outputs": []
    },
    {
      "cell_type": "code",
      "metadata": {
        "id": "hSrRMcdN898P"
      },
      "source": [
        "expected_returns = np.mean(stock_returns)"
      ],
      "execution_count": null,
      "outputs": []
    },
    {
      "cell_type": "code",
      "metadata": {
        "colab": {
          "base_uri": "https://localhost:8080/"
        },
        "id": "OFP9PGvX9QMm",
        "outputId": "6692904b-1c9a-4297-ed0e-89358480d2ad"
      },
      "source": [
        "expected_returns"
      ],
      "execution_count": null,
      "outputs": [
        {
          "output_type": "execute_result",
          "data": {
            "text/plain": [
              "GOOG    0.026997\n",
              "AAPL    0.045056\n",
              "SBUX    0.019943\n",
              "TSLA    0.148274\n",
              "dtype: float64"
            ]
          },
          "metadata": {
            "tags": []
          },
          "execution_count": 124
        }
      ]
    },
    {
      "cell_type": "code",
      "metadata": {
        "colab": {
          "base_uri": "https://localhost:8080/"
        },
        "id": "paaaqXyd9BYU",
        "outputId": "509fbbd9-0e25-4d1b-d87b-b44428f634f7"
      },
      "source": [
        "expected_returns = matrix(expected_returns)\n",
        "expected_returns"
      ],
      "execution_count": null,
      "outputs": [
        {
          "output_type": "execute_result",
          "data": {
            "text/plain": [
              "<4x1 matrix, tc='d'>"
            ]
          },
          "metadata": {
            "tags": []
          },
          "execution_count": 125
        }
      ]
    },
    {
      "cell_type": "code",
      "metadata": {
        "colab": {
          "base_uri": "https://localhost:8080/"
        },
        "id": "YAcaV_PR9KK0",
        "outputId": "f353d9e8-9317-46c1-cf2c-9a504afbfb5c"
      },
      "source": [
        "max_loss = np.min(stock_returns)\n",
        "max_loss"
      ],
      "execution_count": null,
      "outputs": [
        {
          "output_type": "execute_result",
          "data": {
            "text/plain": [
              "GOOG   -0.131797\n",
              "AAPL   -0.127573\n",
              "SBUX   -0.157894\n",
              "TSLA   -0.224266\n",
              "dtype: float64"
            ]
          },
          "metadata": {
            "tags": []
          },
          "execution_count": 126
        }
      ]
    },
    {
      "cell_type": "code",
      "metadata": {
        "colab": {
          "base_uri": "https://localhost:8080/"
        },
        "id": "Dj5_DJ7F9arJ",
        "outputId": "b0f2e29f-f66e-43b8-e5a0-4bf801464932"
      },
      "source": [
        "max_loss = -max_loss\n",
        "max_loss"
      ],
      "execution_count": null,
      "outputs": [
        {
          "output_type": "execute_result",
          "data": {
            "text/plain": [
              "GOOG    0.131797\n",
              "AAPL    0.127573\n",
              "SBUX    0.157894\n",
              "TSLA    0.224266\n",
              "dtype: float64"
            ]
          },
          "metadata": {
            "tags": []
          },
          "execution_count": 127
        }
      ]
    },
    {
      "cell_type": "markdown",
      "metadata": {
        "id": "Uv1gjZXwCmfp"
      },
      "source": [
        "We define our objective as max loss <br>\n",
        "So, our objective essentially is to minimize portfolio risk"
      ]
    },
    {
      "cell_type": "code",
      "metadata": {
        "id": "cfbzweTx9ebm"
      },
      "source": [
        "objective = matrix(max_loss)"
      ],
      "execution_count": null,
      "outputs": []
    },
    {
      "cell_type": "markdown",
      "metadata": {
        "id": "GCHKRy8M-QSl"
      },
      "source": [
        "Constraint: To ensure weights for all securities sum up to 100%, or 1.0\n",
        "\n",
        "The LHS defines the coefficients for weights, for eg: </br>\n",
        "a1*w1 + a2*w2 + a3*w3 = 100% (or 1.0) *italicized text* </br>\n",
        "So, lhs essentially tracks A = [a1, a2, a3] <br>\n",
        "RHS is the final pf weight, which should always be 1.0"
      ]
    },
    {
      "cell_type": "code",
      "metadata": {
        "colab": {
          "base_uri": "https://localhost:8080/"
        },
        "id": "9ONGJzXk9oYL",
        "outputId": "5dc8a715-4d8c-429d-b6e6-1436c6e33f1d"
      },
      "source": [
        "constraints_equality_lhs = matrix(1.0, (1,n))\n",
        "constraints_equality_lhs"
      ],
      "execution_count": null,
      "outputs": [
        {
          "output_type": "execute_result",
          "data": {
            "text/plain": [
              "<1x4 matrix, tc='d'>"
            ]
          },
          "metadata": {
            "tags": []
          },
          "execution_count": 129
        }
      ]
    },
    {
      "cell_type": "code",
      "metadata": {
        "colab": {
          "base_uri": "https://localhost:8080/"
        },
        "id": "kc1_NI0n-ABi",
        "outputId": "7a7a490c-e642-4cd9-d20e-c9eb60ed1a0a"
      },
      "source": [
        "constraints_equality_rhs = matrix(1.0)\n",
        "constraints_equality_rhs"
      ],
      "execution_count": null,
      "outputs": [
        {
          "output_type": "execute_result",
          "data": {
            "text/plain": [
              "<1x1 matrix, tc='d'>"
            ]
          },
          "metadata": {
            "tags": []
          },
          "execution_count": 130
        }
      ]
    },
    {
      "cell_type": "markdown",
      "metadata": {
        "id": "kgMZtjCpDWEH"
      },
      "source": [
        "We define a constraint as: <br>\n",
        "all weights must be >= 0, to ensure we don't get any negative weights<br>\n",
        "This is done to disable short-selling"
      ]
    },
    {
      "cell_type": "code",
      "metadata": {
        "id": "FBcXtuFB-_W0"
      },
      "source": [
        "constraints_inequality_lhs_row1 = matrix(-np.identity(n))"
      ],
      "execution_count": null,
      "outputs": []
    },
    {
      "cell_type": "code",
      "metadata": {
        "id": "KxVrfjMi_pO6"
      },
      "source": [
        "constraints_inequality_rhs_row1 = matrix(0.0, (n, 1))"
      ],
      "execution_count": null,
      "outputs": []
    },
    {
      "cell_type": "code",
      "metadata": {
        "colab": {
          "base_uri": "https://localhost:8080/"
        },
        "id": "jDU3nvUi_0yo",
        "outputId": "b1513dd4-48b5-4068-c1fe-b56ac47e81a5"
      },
      "source": [
        "constraints_inequality_lhs_row1"
      ],
      "execution_count": null,
      "outputs": [
        {
          "output_type": "execute_result",
          "data": {
            "text/plain": [
              "<4x4 matrix, tc='d'>"
            ]
          },
          "metadata": {
            "tags": []
          },
          "execution_count": 133
        }
      ]
    },
    {
      "cell_type": "code",
      "metadata": {
        "colab": {
          "base_uri": "https://localhost:8080/"
        },
        "id": "sge_jQ2h_3gu",
        "outputId": "162ff95b-00ed-4eb5-b651-7ecc1a194ebd"
      },
      "source": [
        "constraints_inequality_rhs_row1"
      ],
      "execution_count": null,
      "outputs": [
        {
          "output_type": "execute_result",
          "data": {
            "text/plain": [
              "<4x1 matrix, tc='d'>"
            ]
          },
          "metadata": {
            "tags": []
          },
          "execution_count": 134
        }
      ]
    },
    {
      "cell_type": "markdown",
      "metadata": {
        "id": "HMWW8YzOEBFr"
      },
      "source": [
        "We add another constraint on beating the expected returns"
      ]
    },
    {
      "cell_type": "code",
      "metadata": {
        "colab": {
          "base_uri": "https://localhost:8080/"
        },
        "id": "bdctTY4f_4bx",
        "outputId": "98421406-373c-4289-8762-2ecddf698da6"
      },
      "source": [
        "constraints_inequality_lhs_row2 = matrix(-np.transpose(np.array(expected_returns)))\n",
        "constraints_inequality_lhs_row2"
      ],
      "execution_count": null,
      "outputs": [
        {
          "output_type": "execute_result",
          "data": {
            "text/plain": [
              "<1x4 matrix, tc='d'>"
            ]
          },
          "metadata": {
            "tags": []
          },
          "execution_count": 135
        }
      ]
    },
    {
      "cell_type": "code",
      "metadata": {
        "id": "UYSCGlOaEKD4"
      },
      "source": [
        "min_expected_return = 0.02"
      ],
      "execution_count": null,
      "outputs": []
    },
    {
      "cell_type": "code",
      "metadata": {
        "id": "zZoX-90zAHMl"
      },
      "source": [
        "constraints_inequality_rhs_row2 = matrix(-np.ones((1, 1)) * min_expected_return)"
      ],
      "execution_count": null,
      "outputs": []
    },
    {
      "cell_type": "code",
      "metadata": {
        "colab": {
          "base_uri": "https://localhost:8080/"
        },
        "id": "IILYdO_fATgD",
        "outputId": "cfd53c1d-8409-4d06-9d79-652c8894a62c"
      },
      "source": [
        "constraints_inequality_rhs_row2"
      ],
      "execution_count": null,
      "outputs": [
        {
          "output_type": "execute_result",
          "data": {
            "text/plain": [
              "<1x1 matrix, tc='d'>"
            ]
          },
          "metadata": {
            "tags": []
          },
          "execution_count": 138
        }
      ]
    },
    {
      "cell_type": "code",
      "metadata": {
        "id": "K0okHmyoAVEm"
      },
      "source": [
        "constraints_inequality_lhs_combined = matrix(np.concatenate((constraints_inequality_lhs_row1, constraints_inequality_lhs_row2), 0))"
      ],
      "execution_count": null,
      "outputs": []
    },
    {
      "cell_type": "code",
      "metadata": {
        "colab": {
          "base_uri": "https://localhost:8080/"
        },
        "id": "mVxa8cLTAlot",
        "outputId": "ea53eb23-97ee-4e1e-b92c-f68c3764c2b3"
      },
      "source": [
        "constraints_inequality_lhs_combined"
      ],
      "execution_count": null,
      "outputs": [
        {
          "output_type": "execute_result",
          "data": {
            "text/plain": [
              "<5x4 matrix, tc='d'>"
            ]
          },
          "metadata": {
            "tags": []
          },
          "execution_count": 140
        }
      ]
    },
    {
      "cell_type": "code",
      "metadata": {
        "id": "MgNvKn9_Am74"
      },
      "source": [
        "constraints_inequality_rhs_combined = matrix(np.concatenate((constraints_inequality_rhs_row1, constraints_inequality_rhs_row2), 0))"
      ],
      "execution_count": null,
      "outputs": []
    },
    {
      "cell_type": "code",
      "metadata": {
        "colab": {
          "base_uri": "https://localhost:8080/"
        },
        "id": "fdQg_jGbArz0",
        "outputId": "b23901fb-e8f0-4410-cba4-d3df22428066"
      },
      "source": [
        "constraints_inequality_rhs_combined"
      ],
      "execution_count": null,
      "outputs": [
        {
          "output_type": "execute_result",
          "data": {
            "text/plain": [
              "<5x1 matrix, tc='d'>"
            ]
          },
          "metadata": {
            "tags": []
          },
          "execution_count": 142
        }
      ]
    },
    {
      "cell_type": "code",
      "metadata": {
        "colab": {
          "base_uri": "https://localhost:8080/"
        },
        "id": "T44b82NdAtwD",
        "outputId": "d5b9a515-b53b-4867-b8ee-ef2555d51d3d"
      },
      "source": [
        "solution = solvers.lp(objective, constraints_inequality_lhs_combined, constraints_inequality_rhs_combined, constraints_equality_lhs, constraints_equality_rhs)"
      ],
      "execution_count": null,
      "outputs": [
        {
          "output_type": "stream",
          "text": [
            "     pcost       dcost       gap    pres   dres   k/t\n",
            " 0:  1.6010e-01  1.8075e-01  1e+00  3e-18  2e+00  1e+00\n",
            " 1:  1.5759e-01  1.5766e-01  4e-02  2e-16  9e-02  4e-02\n",
            " 2:  1.2913e-01  1.2649e-01  9e-03  4e-16  1e-02  3e-03\n",
            " 3:  1.2817e-01  1.2796e-01  7e-04  1e-16  1e-03  2e-04\n",
            " 4:  1.2758e-01  1.2758e-01  1e-05  2e-16  1e-05  3e-06\n",
            " 5:  1.2757e-01  1.2757e-01  1e-07  2e-16  1e-07  3e-08\n",
            " 6:  1.2757e-01  1.2757e-01  1e-09  2e-16  1e-09  3e-10\n",
            "Optimal solution found.\n"
          ],
          "name": "stdout"
        }
      ]
    },
    {
      "cell_type": "code",
      "metadata": {
        "colab": {
          "base_uri": "https://localhost:8080/"
        },
        "id": "5ujFKWP7A-Df",
        "outputId": "ea6bc261-7abc-4006-f18d-fbec76caf786"
      },
      "source": [
        "weights_linear = solution[\"x\"]\n",
        "weights_linear"
      ],
      "execution_count": null,
      "outputs": [
        {
          "output_type": "execute_result",
          "data": {
            "text/plain": [
              "<4x1 matrix, tc='d'>"
            ]
          },
          "metadata": {
            "tags": []
          },
          "execution_count": 144
        }
      ]
    },
    {
      "cell_type": "code",
      "metadata": {
        "id": "mMVy3j1MBBkC"
      },
      "source": [
        "weights_linear = np.array(weights_linear)"
      ],
      "execution_count": null,
      "outputs": []
    },
    {
      "cell_type": "code",
      "metadata": {
        "colab": {
          "base_uri": "https://localhost:8080/"
        },
        "id": "Ey376LzyBEGN",
        "outputId": "2f8eb6c3-d31b-4605-e53f-3cb6bd32e88a"
      },
      "source": [
        "weights_linear"
      ],
      "execution_count": null,
      "outputs": [
        {
          "output_type": "execute_result",
          "data": {
            "text/plain": [
              "array([[1.32313735e-07],\n",
              "       [9.99999865e-01],\n",
              "       [2.05097927e-09],\n",
              "       [5.88424969e-10]])"
            ]
          },
          "metadata": {
            "tags": []
          },
          "execution_count": 146
        }
      ]
    },
    {
      "cell_type": "code",
      "metadata": {
        "colab": {
          "base_uri": "https://localhost:8080/"
        },
        "id": "rfqesuRBBEmk",
        "outputId": "72349584-4d8b-43ab-fc66-aec5b7b98a5b"
      },
      "source": [
        "sum(weights_linear)"
      ],
      "execution_count": null,
      "outputs": [
        {
          "output_type": "execute_result",
          "data": {
            "text/plain": [
              "array([1.])"
            ]
          },
          "metadata": {
            "tags": []
          },
          "execution_count": 147
        }
      ]
    },
    {
      "cell_type": "code",
      "metadata": {
        "id": "ZqWTh6EiBIKn"
      },
      "source": [
        "pf_risk_linear = np.dot(weights_linear.T, max_loss)"
      ],
      "execution_count": null,
      "outputs": []
    },
    {
      "cell_type": "code",
      "metadata": {
        "colab": {
          "base_uri": "https://localhost:8080/"
        },
        "id": "E1kAkXbpBXMf",
        "outputId": "6402eb70-fb76-4d57-bd48-7089da77f285"
      },
      "source": [
        "pf_risk_linear"
      ],
      "execution_count": null,
      "outputs": [
        {
          "output_type": "execute_result",
          "data": {
            "text/plain": [
              "array([0.12757253])"
            ]
          },
          "metadata": {
            "tags": []
          },
          "execution_count": 149
        }
      ]
    },
    {
      "cell_type": "code",
      "metadata": {
        "id": "BNj-uI3JBYWk"
      },
      "source": [
        "pf_return_linear = np.dot(expected_returns.T, weights_linear)"
      ],
      "execution_count": null,
      "outputs": []
    },
    {
      "cell_type": "code",
      "metadata": {
        "colab": {
          "base_uri": "https://localhost:8080/"
        },
        "id": "v3QeNYSlBn8R",
        "outputId": "1f1fd012-2d0a-4d6f-e5a7-c63fc5766085"
      },
      "source": [
        "pf_return_linear"
      ],
      "execution_count": null,
      "outputs": [
        {
          "output_type": "execute_result",
          "data": {
            "text/plain": [
              "array([[0.04505594]])"
            ]
          },
          "metadata": {
            "tags": []
          },
          "execution_count": 151
        }
      ]
    }
  ]
}